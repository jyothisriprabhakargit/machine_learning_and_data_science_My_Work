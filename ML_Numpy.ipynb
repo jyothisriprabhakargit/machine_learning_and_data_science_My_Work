{
  "nbformat": 4,
  "nbformat_minor": 0,
  "metadata": {
    "colab": {
      "name": "Copy of Copy of ML-Numpy.ipynb",
      "provenance": [],
      "collapsed_sections": [],
      "include_colab_link": true
    },
    "kernelspec": {
      "name": "python3",
      "display_name": "Python 3"
    },
    "language_info": {
      "name": "python"
    }
  },
  "cells": [
    {
      "cell_type": "markdown",
      "metadata": {
        "id": "view-in-github",
        "colab_type": "text"
      },
      "source": [
        "<a href=\"https://colab.research.google.com/github/jyothisriprabhakargit/machine_learning_and_data_science_My_Work/blob/main/ML_Numpy.ipynb\" target=\"_parent\"><img src=\"https://colab.research.google.com/assets/colab-badge.svg\" alt=\"Open In Colab\"/></a>"
      ]
    },
    {
      "cell_type": "code",
      "metadata": {
        "id": "-3r95H3kKl3n",
        "colab": {
          "base_uri": "https://localhost:8080/"
        },
        "outputId": "ab0d8ef7-23f3-4d18-8a0c-2cd25f424311"
      },
      "source": [
        "from google.colab import drive\n",
        "drive.mount(\"/content/drive\")"
      ],
      "execution_count": null,
      "outputs": [
        {
          "output_type": "stream",
          "name": "stdout",
          "text": [
            "Mounted at /content/drive\n"
          ]
        }
      ]
    },
    {
      "cell_type": "markdown",
      "metadata": {
        "id": "H-SS4iGoNBXX"
      },
      "source": [
        "Numpy\n",
        ". It means numerical python\n",
        ". It's the linear algebra"
      ]
    },
    {
      "cell_type": "markdown",
      "metadata": {
        "id": "atTp43f3Ndwo"
      },
      "source": [
        "Python idle\n",
        "\n",
        "pip installe numpy\n",
        "\n",
        "Anaconda\n",
        "\n",
        "conda installe numpy"
      ]
    },
    {
      "cell_type": "code",
      "metadata": {
        "id": "jcT5CP4bOnK6"
      },
      "source": [
        "my_list=[1,2,3]"
      ],
      "execution_count": null,
      "outputs": []
    },
    {
      "cell_type": "code",
      "metadata": {
        "id": "IMjzxCl7PMtG"
      },
      "source": [
        "import numpy as np"
      ],
      "execution_count": null,
      "outputs": []
    },
    {
      "cell_type": "code",
      "metadata": {
        "colab": {
          "base_uri": "https://localhost:8080/"
        },
        "id": "j7NkKz0pPdlR",
        "outputId": "3f582bc1-74a8-4f7a-9a7e-b64e6fc49c15"
      },
      "source": [
        "np.array(my_list)"
      ],
      "execution_count": null,
      "outputs": [
        {
          "output_type": "execute_result",
          "data": {
            "text/plain": [
              "array([1, 2, 3])"
            ]
          },
          "metadata": {},
          "execution_count": 4
        }
      ]
    },
    {
      "cell_type": "code",
      "metadata": {
        "id": "iSX46eaLP7Cg"
      },
      "source": [
        "arr=np.array(my_list)"
      ],
      "execution_count": null,
      "outputs": []
    },
    {
      "cell_type": "code",
      "metadata": {
        "colab": {
          "base_uri": "https://localhost:8080/"
        },
        "id": "DBHOqyhqP_Kv",
        "outputId": "399239b8-e1f4-4b0e-b636-d3056907444f"
      },
      "source": [
        "arr"
      ],
      "execution_count": null,
      "outputs": [
        {
          "output_type": "execute_result",
          "data": {
            "text/plain": [
              "array([1, 2, 3])"
            ]
          },
          "metadata": {},
          "execution_count": 6
        }
      ]
    },
    {
      "cell_type": "markdown",
      "metadata": {
        "id": "R9p_TjWEQC9-"
      },
      "source": [
        "Creating matrix"
      ]
    },
    {
      "cell_type": "code",
      "metadata": {
        "id": "N8rUUJkNQGPB"
      },
      "source": [
        "my_mat=[[1, 2,3], [4, 5,6], [7,8,9]]"
      ],
      "execution_count": null,
      "outputs": []
    },
    {
      "cell_type": "code",
      "metadata": {
        "colab": {
          "base_uri": "https://localhost:8080/"
        },
        "id": "7KkYR7erQYW-",
        "outputId": "f18171ba-d849-40c4-a5d3-f3cff1166e5a"
      },
      "source": [
        "np. array(my_mat)"
      ],
      "execution_count": null,
      "outputs": [
        {
          "output_type": "execute_result",
          "data": {
            "text/plain": [
              "array([[1, 2, 3],\n",
              "       [4, 5, 6],\n",
              "       [7, 8, 9]])"
            ]
          },
          "metadata": {},
          "execution_count": 8
        }
      ]
    },
    {
      "cell_type": "markdown",
      "metadata": {
        "id": "_Xg-GhlUQiVI"
      },
      "source": [
        "Ap evenly spaced array"
      ]
    },
    {
      "cell_type": "code",
      "metadata": {
        "colab": {
          "base_uri": "https://localhost:8080/"
        },
        "id": "weCY1zf0Qng2",
        "outputId": "c4d550e4-4510-4474-895b-44fc1e261402"
      },
      "source": [
        "np. arange(0, 20)"
      ],
      "execution_count": null,
      "outputs": [
        {
          "output_type": "execute_result",
          "data": {
            "text/plain": [
              "array([ 0,  1,  2,  3,  4,  5,  6,  7,  8,  9, 10, 11, 12, 13, 14, 15, 16,\n",
              "       17, 18, 19])"
            ]
          },
          "metadata": {},
          "execution_count": 9
        }
      ]
    },
    {
      "cell_type": "markdown",
      "metadata": {
        "id": "Y21H28d-RC5D"
      },
      "source": [
        "In AP format \n",
        "\n",
        "Different of 2\n",
        "(0, 20,2)"
      ]
    },
    {
      "cell_type": "code",
      "metadata": {
        "colab": {
          "base_uri": "https://localhost:8080/"
        },
        "id": "7i5YiQwQQ67S",
        "outputId": "3884a212-5872-46c1-9f45-4c8976e80f9e"
      },
      "source": [
        "np. arange(0,20,2)"
      ],
      "execution_count": null,
      "outputs": [
        {
          "output_type": "execute_result",
          "data": {
            "text/plain": [
              "array([ 0,  2,  4,  6,  8, 10, 12, 14, 16, 18])"
            ]
          },
          "metadata": {},
          "execution_count": 10
        }
      ]
    },
    {
      "cell_type": "code",
      "metadata": {
        "colab": {
          "base_uri": "https://localhost:8080/"
        },
        "id": "vX55c_6GRhtk",
        "outputId": "9f0363ba-7330-4333-f8cb-c32c65451adf"
      },
      "source": [
        "np.zeros(5)"
      ],
      "execution_count": null,
      "outputs": [
        {
          "output_type": "execute_result",
          "data": {
            "text/plain": [
              "array([0., 0., 0., 0., 0.])"
            ]
          },
          "metadata": {},
          "execution_count": 11
        }
      ]
    },
    {
      "cell_type": "code",
      "metadata": {
        "colab": {
          "base_uri": "https://localhost:8080/"
        },
        "id": "rNM2lDWQRpHK",
        "outputId": "0d06f47a-813b-4c34-e804-73447810ca54"
      },
      "source": [
        "np.zeros((5,7))"
      ],
      "execution_count": null,
      "outputs": [
        {
          "output_type": "execute_result",
          "data": {
            "text/plain": [
              "array([[0., 0., 0., 0., 0., 0., 0.],\n",
              "       [0., 0., 0., 0., 0., 0., 0.],\n",
              "       [0., 0., 0., 0., 0., 0., 0.],\n",
              "       [0., 0., 0., 0., 0., 0., 0.],\n",
              "       [0., 0., 0., 0., 0., 0., 0.]])"
            ]
          },
          "metadata": {},
          "execution_count": 12
        }
      ]
    },
    {
      "cell_type": "markdown",
      "metadata": {
        "id": "4zOqpoo-SEzp"
      },
      "source": [
        "Linespace\n",
        "\n",
        "Start 1\n",
        "\n",
        "End 2\n",
        "\n",
        "Linespace 5\n",
        "\n",
        "Eg 1,1.2,1.4,1.6,1.8"
      ]
    },
    {
      "cell_type": "code",
      "metadata": {
        "colab": {
          "base_uri": "https://localhost:8080/"
        },
        "id": "0_inWLARRxx_",
        "outputId": "20e0801a-7afa-4555-9e94-dfca6f0e22cc"
      },
      "source": [
        "np.linspace(0,10, 20)"
      ],
      "execution_count": null,
      "outputs": [
        {
          "output_type": "execute_result",
          "data": {
            "text/plain": [
              "array([ 0.        ,  0.52631579,  1.05263158,  1.57894737,  2.10526316,\n",
              "        2.63157895,  3.15789474,  3.68421053,  4.21052632,  4.73684211,\n",
              "        5.26315789,  5.78947368,  6.31578947,  6.84210526,  7.36842105,\n",
              "        7.89473684,  8.42105263,  8.94736842,  9.47368421, 10.        ])"
            ]
          },
          "metadata": {},
          "execution_count": 13
        }
      ]
    },
    {
      "cell_type": "markdown",
      "metadata": {
        "id": "rBrLdm0QR9QY"
      },
      "source": [
        "Identity matrices\n",
        "\n",
        "\n",
        "Matrix n*m for I: n==m"
      ]
    },
    {
      "cell_type": "code",
      "metadata": {
        "colab": {
          "base_uri": "https://localhost:8080/"
        },
        "id": "nptfBWnHSA0j",
        "outputId": "4fb65a73-c99a-41ae-f005-1c4f060434c5"
      },
      "source": [
        "np.eye(3)"
      ],
      "execution_count": null,
      "outputs": [
        {
          "output_type": "execute_result",
          "data": {
            "text/plain": [
              "array([[1., 0., 0.],\n",
              "       [0., 1., 0.],\n",
              "       [0., 0., 1.]])"
            ]
          },
          "metadata": {},
          "execution_count": 14
        }
      ]
    },
    {
      "cell_type": "markdown",
      "metadata": {
        "id": "DgWQASwPTCjr"
      },
      "source": [
        "Array of random numbers"
      ]
    },
    {
      "cell_type": "markdown",
      "metadata": {
        "id": "4ic8xbWcTInl"
      },
      "source": [
        "rand\n",
        "\n",
        "\n",
        "N element between 0and 1"
      ]
    },
    {
      "cell_type": "code",
      "metadata": {
        "colab": {
          "base_uri": "https://localhost:8080/"
        },
        "id": "f-4Z49L2TSku",
        "outputId": "596b6ad9-27ef-4c2d-ae55-2fdd5db9fdf1"
      },
      "source": [
        "np.random.rand(5)"
      ],
      "execution_count": null,
      "outputs": [
        {
          "output_type": "execute_result",
          "data": {
            "text/plain": [
              "array([0.95031661, 0.89264854, 0.2285205 , 0.0327742 , 0.08803624])"
            ]
          },
          "metadata": {},
          "execution_count": 15
        }
      ]
    },
    {
      "cell_type": "markdown",
      "metadata": {
        "id": "3nOKfWYtTZnK"
      },
      "source": [
        "randn\n",
        "\n",
        "\n",
        "N element with standard distribution"
      ]
    },
    {
      "cell_type": "code",
      "metadata": {
        "colab": {
          "base_uri": "https://localhost:8080/"
        },
        "id": "8rbJopA7Tlgv",
        "outputId": "78dea18b-da65-4191-977a-6a4d3fc506a4"
      },
      "source": [
        "np.random.randn(2)"
      ],
      "execution_count": null,
      "outputs": [
        {
          "output_type": "execute_result",
          "data": {
            "text/plain": [
              "array([ 0.91370723, -0.61612793])"
            ]
          },
          "metadata": {},
          "execution_count": 16
        }
      ]
    },
    {
      "cell_type": "markdown",
      "metadata": {
        "id": "dVS3DbS0TvtR"
      },
      "source": [
        "randint\n",
        "\n",
        "Get integers values"
      ]
    },
    {
      "cell_type": "code",
      "metadata": {
        "colab": {
          "base_uri": "https://localhost:8080/"
        },
        "id": "21kYbpvZT050",
        "outputId": "f9ec5ac9-7ad1-496d-8ac7-ed15759095c9"
      },
      "source": [
        "np.random.randint(0,10)"
      ],
      "execution_count": null,
      "outputs": [
        {
          "output_type": "execute_result",
          "data": {
            "text/plain": [
              "1"
            ]
          },
          "metadata": {},
          "execution_count": 17
        }
      ]
    },
    {
      "cell_type": "code",
      "metadata": {
        "colab": {
          "base_uri": "https://localhost:8080/"
        },
        "id": "6-qGxYC6UC2t",
        "outputId": "47b0c697-3163-470c-815b-3da68110a2f0"
      },
      "source": [
        "np.random.randint(0,100,10)"
      ],
      "execution_count": null,
      "outputs": [
        {
          "output_type": "execute_result",
          "data": {
            "text/plain": [
              "array([29, 45, 10, 43, 29, 34, 43, 57, 45, 65])"
            ]
          },
          "metadata": {},
          "execution_count": 18
        }
      ]
    }
  ]
}